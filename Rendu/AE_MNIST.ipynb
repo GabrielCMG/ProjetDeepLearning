{
 "cells": [
  {
   "cell_type": "code",
   "execution_count": 1,
   "metadata": {
    "collapsed": true
   },
   "outputs": [],
   "source": [
    "import numpy as np\n",
    "from keras.datasets import mnist\n",
    "import matplotlib.pyplot as plt\n",
    "from tqdm import tqdm\n",
    "from torchvision import transforms\n",
    "import torch.nn as nn\n",
    "from torch.utils.data import DataLoader, Dataset\n",
    "import torch\n",
    "import torch.optim as optim"
   ]
  },
  {
   "cell_type": "markdown",
   "source": [
    "## Quelques fonctions utiles\n",
    "\n",
    "Une fonction pour ajouter du bruit (gaussien ou speckle), deux fonctions pour calculer le SNR et une fonction de normalisation entre 0 et 1."
   ],
   "metadata": {
    "collapsed": false
   }
  },
  {
   "cell_type": "code",
   "execution_count": 2,
   "outputs": [],
   "source": [
    "def add_noise(img, noise_type=\"gaussian\", mean=0, var=1):\n",
    "    \"\"\"\n",
    "    add_noise ajoute un bruit addition gaussien ou multiplicatif suivant une loi de Gamma.\n",
    "\n",
    "    :param\n",
    "    img: image originale\n",
    "    noise_type: additif gaussien ou spekle suivant une loi de Gamma\n",
    "    mean: parametre premier ordre\n",
    "    var: parametre deuxieme ordre\n",
    "\n",
    "    gaussian: (mean, var)\n",
    "    gamma: (a, scale)\n",
    "\n",
    "    :return\n",
    "    Image bruite.\n",
    "    \"\"\"\n",
    "    row, col = 28, 28\n",
    "    img = img.astype(np.float32)\n",
    "    sigma = var ** .5\n",
    "\n",
    "    if noise_type == \"gaussian\":\n",
    "        noise = np.random.normal(mean, sigma, img.shape)\n",
    "        noise = noise.reshape(row, col)\n",
    "        img = img + noise\n",
    "        return img\n",
    "\n",
    "    if noise_type == \"speckle\":\n",
    "        noise = np.random.gamma(mean, scale=sigma, size=img.shape)\n",
    "        img = img * noise\n",
    "        return img\n",
    "\n",
    "def snr(img1, img2):\n",
    "    \"\"\"\n",
    "    Calcul une estimation du SNR.\n",
    "\n",
    "    :param\n",
    "    img1: image cible\n",
    "    img2: image comparatif\n",
    "\n",
    "    :return\n",
    "    SNR.\n",
    "    \"\"\"\n",
    "    sz = img1.shape\n",
    "    acc_num = 0\n",
    "    acc_den = 0\n",
    "\n",
    "    for i in range(0, sz[0]):\n",
    "        for j in range(0, sz[1]):\n",
    "            acc_num += img1[i][j] ** 2\n",
    "            acc_den += (img1[i][j] - img2[i][j]) ** 2\n",
    "\n",
    "    return acc_num / acc_den\n",
    "\n",
    "def psnr(img1, img2):\n",
    "    \"\"\"\n",
    "    Calcul une estimation du PSNR.\n",
    "\n",
    "    :param\n",
    "    img1: image cible\n",
    "    img2: image comparatif\n",
    "\n",
    "    :return\n",
    "    PSNR.\n",
    "    \"\"\"\n",
    "    sz = img1.shape\n",
    "    acc_mse = 0\n",
    "\n",
    "    for i in range(0, sz[0]):\n",
    "        for j in range(0, sz[1]):\n",
    "            acc_mse += (img1[i][j] - img2[i][j]) ** 2\n",
    "\n",
    "    acc_mse /= (sz[0] * sz[1])\n",
    "\n",
    "    return 10 * np.log(255 ** 2 / acc_mse)"
   ],
   "metadata": {
    "collapsed": false
   }
  },
  {
   "cell_type": "markdown",
   "source": [
    "## Extraction des données et ajout du bruit\n",
    "\n",
    "Un bruit Gaussien est ajouté à toutes les images des bases de test et d'entraînement."
   ],
   "metadata": {
    "collapsed": false
   }
  },
  {
   "cell_type": "code",
   "execution_count": 3,
   "outputs": [
    {
     "name": "stderr",
     "output_type": "stream",
     "text": [
      "100%|██████████| 60000/60000 [00:01<00:00, 49754.69it/s]\n"
     ]
    },
    {
     "name": "stdout",
     "output_type": "stream",
     "text": [
      "\n",
      "gaussian noise addition completed to images\n"
     ]
    },
    {
     "name": "stderr",
     "output_type": "stream",
     "text": [
      "100%|██████████| 10000/10000 [00:00<00:00, 49298.30it/s]"
     ]
    },
    {
     "name": "stdout",
     "output_type": "stream",
     "text": [
      "\n",
      "gaussian noise addition completed to images\n"
     ]
    },
    {
     "name": "stderr",
     "output_type": "stream",
     "text": [
      "\n"
     ]
    }
   ],
   "source": [
    "#Chargement des donnees\n",
    "(xtrain, ytrain), (xtest, ytest) = mnist.load_data()\n",
    "\n",
    "\n",
    "#Parametres du bruit\n",
    "noises = [\"gaussian\", \"speckle\"]\n",
    "#Additif gaussien\n",
    "mean = 0\n",
    "var = 10000.\n",
    "#Gamma spekle\n",
    "lb = 1.1\n",
    "a = lb\n",
    "scale = 1 / (lb - 1)\n",
    "noise_ct = 0    #nombre d'image ayant ete bruitee\n",
    "noise_id = 0    #0: additif gaussien, 1: Gamma spekle\n",
    "traindata = np.zeros((60000, 28, 28))\n",
    "\n",
    "#Ajout du bruit aux images d'entrainement\n",
    "for idx in tqdm(range(len(xtrain))):\n",
    "    traindata[idx] = add_noise(xtrain[idx], noise_type=noises[noise_id], mean=mean, var=var)\n",
    "\n",
    "\n",
    "print(\"\\n{} noise addition completed to images\".format(noises[noise_id]))\n",
    "\n",
    "testdata = np.zeros((10000, 28, 28))\n",
    "\n",
    "#Ajout du bruit au image de test\n",
    "for idx in tqdm(range(len(xtest))):\n",
    "    x = add_noise(xtest[idx], noise_type=noises[noise_id], mean=mean, var=var)\n",
    "    testdata[idx] = x\n",
    "\n",
    "print(\"\\n{} noise addition completed to images\".format(noises[noise_id]))"
   ],
   "metadata": {
    "collapsed": false
   }
  },
  {
   "cell_type": "markdown",
   "source": [
    "## Affichage d'imagettes\n",
    "\n",
    "Trois imagettes sont affichées dans leur forme initiale et dans leur forme bruitée"
   ],
   "metadata": {
    "collapsed": false
   }
  },
  {
   "cell_type": "code",
   "execution_count": 4,
   "outputs": [
    {
     "data": {
      "text/plain": "<Figure size 640x480 with 6 Axes>",
      "image/png": "[encoded data removed]"
     },
     "metadata": {},
     "output_type": "display_data"
    },
    {
     "name": "stdout",
     "output_type": "stream",
     "text": [
      "SNR:  0.7171267559422324\n",
      "PSNR:  18.172129101008416\n"
     ]
    }
   ],
   "source": [
    "f, axes = plt.subplots(2, 3)\n",
    "\n",
    "# Affichage des images original et bruite\n",
    "axes[0, 0].imshow(xtrain[0], cmap=\"gray\")\n",
    "axes[0, 0].set_title(\"Original Image\")\n",
    "axes[1, 0].imshow(traindata[0], cmap='gray')\n",
    "axes[1, 0].set_title(\"Noised Image\")\n",
    "\n",
    "axes[0, 1].imshow(xtrain[25000], cmap='gray')\n",
    "axes[0, 1].set_title(\"Original Image\")\n",
    "axes[1, 1].imshow(traindata[25000], cmap=\"gray\")\n",
    "axes[1, 1].set_title(\"Noised Image\")\n",
    "\n",
    "axes[0, 2].imshow(xtrain[10100], cmap='gray')\n",
    "axes[0, 2].set_title(\"Original Image\")\n",
    "axes[1, 2].imshow(traindata[10100], cmap=\"gray\")\n",
    "axes[1, 2].set_title(\"Noised Image\")\n",
    "plt.show()\n",
    "\n",
    "#Estimation du SNR et du PSNR sur une image\n",
    "snr_estim = snr(xtrain[0], traindata[0])\n",
    "psnr_estim = psnr(xtrain[0], traindata[0])\n",
    "\n",
    "print(\"SNR: \", snr_estim)\n",
    "print(\"PSNR: \", psnr_estim)"
   ],
   "metadata": {
    "collapsed": false
   }
  },
  {
   "cell_type": "markdown",
   "source": [
    "## Création de la classe Dataset"
   ],
   "metadata": {
    "collapsed": false
   }
  },
  {
   "cell_type": "code",
   "execution_count": 5,
   "outputs": [],
   "source": [
    "class noisedDataset(Dataset):\n",
    "\n",
    "    def __init__(self, datasetnoised, datasetclean, labels, transform):\n",
    "        '''Construction des donnees d'entrainement et de test.'''\n",
    "        self.noise = datasetnoised\n",
    "        self.clean = datasetclean\n",
    "        self.labels = labels\n",
    "        self.transform = transform\n",
    "\n",
    "    def __len__(self):\n",
    "        return len(self.noise)\n",
    "\n",
    "    def __getitem__(self, idx):\n",
    "        xNoise = self.noise[idx]\n",
    "        xClean = self.clean[idx]\n",
    "        y = self.labels[idx]\n",
    "\n",
    "        if self.transform != None:\n",
    "            xNoise = self.transform(xNoise)\n",
    "            xClean = self.transform(xClean)\n",
    "\n",
    "        return (xNoise, xClean, y)"
   ],
   "metadata": {
    "collapsed": false
   }
  },
  {
   "cell_type": "markdown",
   "source": [
    "## Création des Dataloader\n",
    "\n",
    "Les Dataloaders permettant d'avoir accès aux données pour l'entrainement et le test."
   ],
   "metadata": {
    "collapsed": false
   }
  },
  {
   "cell_type": "code",
   "execution_count": 6,
   "outputs": [],
   "source": [
    "#Construction des donnee\n",
    "tsfms = transforms.Compose([transforms.ToTensor()])\n",
    "\n",
    "trainset = noisedDataset(traindata, xtrain, ytrain, tsfms)\n",
    "testset = noisedDataset(testdata, xtest, ytest, tsfms)\n",
    "\n",
    "batch_size = 32\n",
    "trainloader = DataLoader(trainset, batch_size=32, shuffle=True)\n",
    "testloader = DataLoader(testset, batch_size=1, shuffle=True)"
   ],
   "metadata": {
    "collapsed": false
   }
  },
  {
   "cell_type": "markdown",
   "source": [
    "## Création de l'Autoancodeur de Débruitage\n",
    "\n",
    "La classe contient un encodeur et un décodeur qui permettent le débruitage des images MNIST une fois entrainés."
   ],
   "metadata": {
    "collapsed": false
   }
  },
  {
   "cell_type": "code",
   "execution_count": 7,
   "outputs": [],
   "source": [
    "class denoising_model(nn.Module):\n",
    "    def __init__(self):\n",
    "        '''Autoencodeur pour reduction du bruit.'''\n",
    "        super(denoising_model, self).__init__()\n",
    "\n",
    "        #Encoder\n",
    "        self.encoder = nn.Sequential(\n",
    "            nn.Linear(28 * 28, 256),\n",
    "            nn.ReLU(True),\n",
    "            nn.Linear(256, 128),\n",
    "            nn.ReLU(True),\n",
    "            nn.Linear(128, 64),\n",
    "            nn.ReLU(True)\n",
    "\n",
    "        )\n",
    "\n",
    "        #Decoder\n",
    "        self.decoder = nn.Sequential(\n",
    "            nn.Linear(64, 128),\n",
    "            nn.ReLU(True),\n",
    "            nn.Linear(128, 256),\n",
    "            nn.ReLU(True),\n",
    "            nn.Linear(256, 28 * 28),\n",
    "            nn.Sigmoid(),\n",
    "        )\n",
    "\n",
    "    #Autoencoder\n",
    "    def forward(self, x):\n",
    "        x = self.encoder(x)\n",
    "        x = self.decoder(x)\n",
    "\n",
    "        return x"
   ],
   "metadata": {
    "collapsed": false
   }
  },
  {
   "cell_type": "code",
   "execution_count": 8,
   "outputs": [
    {
     "name": "stdout",
     "output_type": "stream",
     "text": [
      "----------------------------------------------------------------\n",
      "        Layer (type)               Output Shape         Param #\n",
      "================================================================\n",
      "            Linear-1               [-1, 1, 256]         200,960\n",
      "              ReLU-2               [-1, 1, 256]               0\n",
      "            Linear-3               [-1, 1, 128]          32,896\n",
      "              ReLU-4               [-1, 1, 128]               0\n",
      "            Linear-5                [-1, 1, 64]           8,256\n",
      "              ReLU-6                [-1, 1, 64]               0\n",
      "            Linear-7               [-1, 1, 128]           8,320\n",
      "              ReLU-8               [-1, 1, 128]               0\n",
      "            Linear-9               [-1, 1, 256]          33,024\n",
      "             ReLU-10               [-1, 1, 256]               0\n",
      "           Linear-11               [-1, 1, 784]         201,488\n",
      "          Sigmoid-12               [-1, 1, 784]               0\n",
      "================================================================\n",
      "Total params: 484,944\n",
      "Trainable params: 484,944\n",
      "Non-trainable params: 0\n",
      "----------------------------------------------------------------\n",
      "Input size (MB): 0.00\n",
      "Forward/backward pass size (MB): 0.02\n",
      "Params size (MB): 1.85\n",
      "Estimated Total Size (MB): 1.88\n",
      "----------------------------------------------------------------\n"
     ]
    }
   ],
   "source": [
    "#Creation de l'autoencodeur\n",
    "from torchsummary import summary\n",
    "\n",
    "model = denoising_model()\n",
    "\n",
    "device = torch.device(\"cuda\") if torch.cuda.is_available() else torch.device(\"cpu\")\n",
    "\n",
    "model.to(device)\n",
    "\n",
    "summary(model, (1, 28*28))"
   ],
   "metadata": {
    "collapsed": false
   }
  },
  {
   "cell_type": "code",
   "execution_count": 9,
   "outputs": [
    {
     "name": "stdout",
     "output_type": "stream",
     "text": [
      "cuda\n"
     ]
    }
   ],
   "source": [
    "#Uitlisation du GPU ou du CPU\n",
    "device = torch.device(\"cuda\") if torch.cuda.is_available() else torch.device(\"cpu\")\n",
    "print(device)\n",
    "\n",
    "#Hyperparametres.\n",
    "model = denoising_model().to(device)\n",
    "criterion = nn.MSELoss()\n",
    "optimizer = optim.SGD(model.parameters(), lr=0.01, weight_decay=1e-5)\n",
    "\n",
    "epochs = 100\n",
    "l = len(trainloader)\n",
    "losslist = list()\n",
    "epochloss = 0\n",
    "running_loss = 0"
   ],
   "metadata": {
    "collapsed": false
   }
  },
  {
   "cell_type": "markdown",
   "source": [
    "## Entrainement du réseau"
   ],
   "metadata": {
    "collapsed": false
   }
  },
  {
   "cell_type": "code",
   "execution_count": 10,
   "outputs": [
    {
     "data": {
      "text/plain": "<Figure size 640x480 with 1 Axes>",
      "image/png": "[encoded data removed]"
     },
     "metadata": {},
     "output_type": "display_data"
    },
    {
     "data": {
      "text/plain": "<Figure size 640x480 with 1 Axes>",
      "image/png": "[encoded data removed]"
     },
     "metadata": {},
     "output_type": "display_data"
    }
   ],
   "source": [
    "#Mise en forme des donnees de test\n",
    "image_test = testloader.sampler.data_source.noise[0]\n",
    "image_test_clean = testloader.sampler.data_source.clean[0]\n",
    "\n",
    "plt.figure()\n",
    "plt.imshow(image_test)\n",
    "plt.figure()\n",
    "plt.imshow(image_test_clean)\n",
    "\n",
    "image_test = torch.from_numpy(image_test)\n",
    "image_test = image_test.view(1, -1).type(torch.FloatTensor)\n",
    "\n",
    "image_test = image_test.to(device)"
   ],
   "metadata": {
    "collapsed": false
   }
  },
  {
   "cell_type": "code",
   "execution_count": 11,
   "outputs": [
    {
     "name": "stdout",
     "output_type": "stream",
     "text": [
      "Entering Epoch:  0\n"
     ]
    },
    {
     "name": "stderr",
     "output_type": "stream",
     "text": [
      "100%|██████████| 1875/1875 [00:06<00:00, 281.53it/s]\n"
     ]
    },
    {
     "name": "stdout",
     "output_type": "stream",
     "text": [
      "======> epoch: 0/100, Loss:0.07010258734226227\n",
      "Entering Epoch:  1\n"
     ]
    },
    {
     "name": "stderr",
     "output_type": "stream",
     "text": [
      "100%|██████████| 1875/1875 [00:07<00:00, 266.44it/s]\n"
     ]
    },
    {
     "name": "stdout",
     "output_type": "stream",
     "text": [
      "======> epoch: 1/100, Loss:0.06445153802633286\n",
      "Entering Epoch:  2\n"
     ]
    },
    {
     "name": "stderr",
     "output_type": "stream",
     "text": [
      "100%|██████████| 1875/1875 [00:07<00:00, 251.70it/s]\n"
     ]
    },
    {
     "name": "stdout",
     "output_type": "stream",
     "text": [
      "======> epoch: 2/100, Loss:0.06625276803970337\n",
      "Entering Epoch:  3\n"
     ]
    },
    {
     "name": "stderr",
     "output_type": "stream",
     "text": [
      "100%|██████████| 1875/1875 [00:07<00:00, 250.80it/s]\n"
     ]
    },
    {
     "name": "stdout",
     "output_type": "stream",
     "text": [
      "======> epoch: 3/100, Loss:0.06940604746341705\n",
      "Entering Epoch:  4\n"
     ]
    },
    {
     "name": "stderr",
     "output_type": "stream",
     "text": [
      "100%|██████████| 1875/1875 [00:07<00:00, 259.41it/s]\n"
     ]
    },
    {
     "name": "stdout",
     "output_type": "stream",
     "text": [
      "======> epoch: 4/100, Loss:0.061912018805742264\n",
      "Entering Epoch:  5\n"
     ]
    },
    {
     "name": "stderr",
     "output_type": "stream",
     "text": [
      "100%|██████████| 1875/1875 [00:06<00:00, 286.93it/s]\n"
     ]
    },
    {
     "name": "stdout",
     "output_type": "stream",
     "text": [
      "======> epoch: 5/100, Loss:0.06392669677734375\n",
      "Entering Epoch:  6\n"
     ]
    },
    {
     "name": "stderr",
     "output_type": "stream",
     "text": [
      "100%|██████████| 1875/1875 [00:06<00:00, 289.95it/s]\n"
     ]
    },
    {
     "name": "stdout",
     "output_type": "stream",
     "text": [
      "======> epoch: 6/100, Loss:0.060016877949237823\n",
      "Entering Epoch:  7\n"
     ]
    },
    {
     "name": "stderr",
     "output_type": "stream",
     "text": [
      "100%|██████████| 1875/1875 [00:07<00:00, 257.07it/s]\n"
     ]
    },
    {
     "name": "stdout",
     "output_type": "stream",
     "text": [
      "======> epoch: 7/100, Loss:0.05436859652400017\n",
      "Entering Epoch:  8\n"
     ]
    },
    {
     "name": "stderr",
     "output_type": "stream",
     "text": [
      "100%|██████████| 1875/1875 [00:06<00:00, 288.33it/s]\n"
     ]
    },
    {
     "name": "stdout",
     "output_type": "stream",
     "text": [
      "======> epoch: 8/100, Loss:0.05609346181154251\n",
      "Entering Epoch:  9\n"
     ]
    },
    {
     "name": "stderr",
     "output_type": "stream",
     "text": [
      "100%|██████████| 1875/1875 [00:06<00:00, 274.72it/s]\n"
     ]
    },
    {
     "name": "stdout",
     "output_type": "stream",
     "text": [
      "======> epoch: 9/100, Loss:0.052796702831983566\n",
      "Entering Epoch:  10\n"
     ]
    },
    {
     "name": "stderr",
     "output_type": "stream",
     "text": [
      "100%|██████████| 1875/1875 [00:06<00:00, 286.96it/s]\n"
     ]
    },
    {
     "name": "stdout",
     "output_type": "stream",
     "text": [
      "======> epoch: 10/100, Loss:0.05507553741335869\n",
      "Entering Epoch:  11\n"
     ]
    },
    {
     "name": "stderr",
     "output_type": "stream",
     "text": [
      "100%|██████████| 1875/1875 [00:05<00:00, 317.45it/s]\n"
     ]
    },
    {
     "name": "stdout",
     "output_type": "stream",
     "text": [
      "======> epoch: 11/100, Loss:0.050245046615600586\n",
      "Entering Epoch:  12\n"
     ]
    },
    {
     "name": "stderr",
     "output_type": "stream",
     "text": [
      "100%|██████████| 1875/1875 [00:06<00:00, 284.83it/s]\n"
     ]
    },
    {
     "name": "stdout",
     "output_type": "stream",
     "text": [
      "======> epoch: 12/100, Loss:0.050020646303892136\n",
      "Entering Epoch:  13\n"
     ]
    },
    {
     "name": "stderr",
     "output_type": "stream",
     "text": [
      "100%|██████████| 1875/1875 [00:06<00:00, 289.54it/s]\n"
     ]
    },
    {
     "name": "stdout",
     "output_type": "stream",
     "text": [
      "======> epoch: 13/100, Loss:0.0541861392557621\n",
      "Entering Epoch:  14\n"
     ]
    },
    {
     "name": "stderr",
     "output_type": "stream",
     "text": [
      "100%|██████████| 1875/1875 [00:06<00:00, 276.75it/s]\n"
     ]
    },
    {
     "name": "stdout",
     "output_type": "stream",
     "text": [
      "======> epoch: 14/100, Loss:0.045660726726055145\n",
      "Entering Epoch:  15\n"
     ]
    },
    {
     "name": "stderr",
     "output_type": "stream",
     "text": [
      "100%|██████████| 1875/1875 [00:06<00:00, 298.15it/s]\n"
     ]
    },
    {
     "name": "stdout",
     "output_type": "stream",
     "text": [
      "======> epoch: 15/100, Loss:0.04297158122062683\n",
      "Entering Epoch:  16\n"
     ]
    },
    {
     "name": "stderr",
     "output_type": "stream",
     "text": [
      "100%|██████████| 1875/1875 [00:06<00:00, 285.65it/s]\n"
     ]
    },
    {
     "name": "stdout",
     "output_type": "stream",
     "text": [
      "======> epoch: 16/100, Loss:0.043541502207517624\n",
      "Entering Epoch:  17\n"
     ]
    },
    {
     "name": "stderr",
     "output_type": "stream",
     "text": [
      "100%|██████████| 1875/1875 [00:06<00:00, 298.01it/s]\n"
     ]
    },
    {
     "name": "stdout",
     "output_type": "stream",
     "text": [
      "======> epoch: 17/100, Loss:0.038350075483322144\n",
      "Entering Epoch:  18\n"
     ]
    },
    {
     "name": "stderr",
     "output_type": "stream",
     "text": [
      "100%|██████████| 1875/1875 [00:06<00:00, 273.31it/s]\n"
     ]
    },
    {
     "name": "stdout",
     "output_type": "stream",
     "text": [
      "======> epoch: 18/100, Loss:0.04437292739748955\n",
      "Entering Epoch:  19\n"
     ]
    },
    {
     "name": "stderr",
     "output_type": "stream",
     "text": [
      "100%|██████████| 1875/1875 [00:06<00:00, 282.04it/s]\n"
     ]
    },
    {
     "name": "stdout",
     "output_type": "stream",
     "text": [
      "======> epoch: 19/100, Loss:0.04480259120464325\n",
      "Entering Epoch:  20\n"
     ]
    },
    {
     "name": "stderr",
     "output_type": "stream",
     "text": [
      "100%|██████████| 1875/1875 [00:06<00:00, 288.47it/s]\n"
     ]
    },
    {
     "name": "stdout",
     "output_type": "stream",
     "text": [
      "======> epoch: 20/100, Loss:0.04403815045952797\n",
      "Entering Epoch:  21\n"
     ]
    },
    {
     "name": "stderr",
     "output_type": "stream",
     "text": [
      "100%|██████████| 1875/1875 [00:06<00:00, 311.28it/s]\n"
     ]
    },
    {
     "name": "stdout",
     "output_type": "stream",
     "text": [
      "======> epoch: 21/100, Loss:0.04369381442666054\n",
      "Entering Epoch:  22\n"
     ]
    },
    {
     "name": "stderr",
     "output_type": "stream",
     "text": [
      "100%|██████████| 1875/1875 [00:06<00:00, 292.02it/s]\n"
     ]
    },
    {
     "name": "stdout",
     "output_type": "stream",
     "text": [
      "======> epoch: 22/100, Loss:0.03761184960603714\n",
      "Entering Epoch:  23\n"
     ]
    },
    {
     "name": "stderr",
     "output_type": "stream",
     "text": [
      "100%|██████████| 1875/1875 [00:06<00:00, 288.07it/s]\n"
     ]
    },
    {
     "name": "stdout",
     "output_type": "stream",
     "text": [
      "======> epoch: 23/100, Loss:0.04072859138250351\n",
      "Entering Epoch:  24\n"
     ]
    },
    {
     "name": "stderr",
     "output_type": "stream",
     "text": [
      "100%|██████████| 1875/1875 [00:06<00:00, 271.73it/s]\n"
     ]
    },
    {
     "name": "stdout",
     "output_type": "stream",
     "text": [
      "======> epoch: 24/100, Loss:0.036413371562957764\n",
      "Entering Epoch:  25\n"
     ]
    },
    {
     "name": "stderr",
     "output_type": "stream",
     "text": [
      "100%|██████████| 1875/1875 [00:06<00:00, 295.24it/s]\n"
     ]
    },
    {
     "name": "stdout",
     "output_type": "stream",
     "text": [
      "======> epoch: 25/100, Loss:0.04018762707710266\n",
      "Entering Epoch:  26\n"
     ]
    },
    {
     "name": "stderr",
     "output_type": "stream",
     "text": [
      "100%|██████████| 1875/1875 [00:06<00:00, 283.49it/s]\n"
     ]
    },
    {
     "name": "stdout",
     "output_type": "stream",
     "text": [
      "======> epoch: 26/100, Loss:0.0366184376180172\n",
      "Entering Epoch:  27\n"
     ]
    },
    {
     "name": "stderr",
     "output_type": "stream",
     "text": [
      "100%|██████████| 1875/1875 [00:06<00:00, 292.85it/s]\n"
     ]
    },
    {
     "name": "stdout",
     "output_type": "stream",
     "text": [
      "======> epoch: 27/100, Loss:0.03727297484874725\n",
      "Entering Epoch:  28\n"
     ]
    },
    {
     "name": "stderr",
     "output_type": "stream",
     "text": [
      "100%|██████████| 1875/1875 [00:06<00:00, 272.42it/s]\n"
     ]
    },
    {
     "name": "stdout",
     "output_type": "stream",
     "text": [
      "======> epoch: 28/100, Loss:0.03635966405272484\n",
      "Entering Epoch:  29\n"
     ]
    },
    {
     "name": "stderr",
     "output_type": "stream",
     "text": [
      "100%|██████████| 1875/1875 [00:06<00:00, 278.60it/s]\n"
     ]
    },
    {
     "name": "stdout",
     "output_type": "stream",
     "text": [
      "======> epoch: 29/100, Loss:0.03746090829372406\n",
      "Entering Epoch:  30\n"
     ]
    },
    {
     "name": "stderr",
     "output_type": "stream",
     "text": [
      "100%|██████████| 1875/1875 [00:06<00:00, 277.98it/s]\n"
     ]
    },
    {
     "name": "stdout",
     "output_type": "stream",
     "text": [
      "======> epoch: 30/100, Loss:0.038138654083013535\n",
      "Entering Epoch:  31\n"
     ]
    },
    {
     "name": "stderr",
     "output_type": "stream",
     "text": [
      "100%|██████████| 1875/1875 [00:06<00:00, 300.24it/s]\n"
     ]
    },
    {
     "name": "stdout",
     "output_type": "stream",
     "text": [
      "======> epoch: 31/100, Loss:0.03603436425328255\n",
      "Entering Epoch:  32\n"
     ]
    },
    {
     "name": "stderr",
     "output_type": "stream",
     "text": [
      "100%|██████████| 1875/1875 [00:06<00:00, 284.26it/s]\n"
     ]
    },
    {
     "name": "stdout",
     "output_type": "stream",
     "text": [
      "======> epoch: 32/100, Loss:0.0302854236215353\n",
      "Entering Epoch:  33\n"
     ]
    },
    {
     "name": "stderr",
     "output_type": "stream",
     "text": [
      "100%|██████████| 1875/1875 [00:06<00:00, 284.67it/s]\n"
     ]
    },
    {
     "name": "stdout",
     "output_type": "stream",
     "text": [
      "======> epoch: 33/100, Loss:0.03348606079816818\n",
      "Entering Epoch:  34\n"
     ]
    },
    {
     "name": "stderr",
     "output_type": "stream",
     "text": [
      "100%|██████████| 1875/1875 [00:06<00:00, 277.68it/s]\n"
     ]
    },
    {
     "name": "stdout",
     "output_type": "stream",
     "text": [
      "======> epoch: 34/100, Loss:0.04111821576952934\n",
      "Entering Epoch:  35\n"
     ]
    },
    {
     "name": "stderr",
     "output_type": "stream",
     "text": [
      "100%|██████████| 1875/1875 [00:06<00:00, 276.48it/s]\n"
     ]
    },
    {
     "name": "stdout",
     "output_type": "stream",
     "text": [
      "======> epoch: 35/100, Loss:0.03519495949149132\n",
      "Entering Epoch:  36\n"
     ]
    },
    {
     "name": "stderr",
     "output_type": "stream",
     "text": [
      "100%|██████████| 1875/1875 [00:06<00:00, 288.43it/s]\n"
     ]
    },
    {
     "name": "stdout",
     "output_type": "stream",
     "text": [
      "======> epoch: 36/100, Loss:0.034439656883478165\n",
      "Entering Epoch:  37\n"
     ]
    },
    {
     "name": "stderr",
     "output_type": "stream",
     "text": [
      "100%|██████████| 1875/1875 [00:06<00:00, 284.51it/s]\n"
     ]
    },
    {
     "name": "stdout",
     "output_type": "stream",
     "text": [
      "======> epoch: 37/100, Loss:0.03318479657173157\n",
      "Entering Epoch:  38\n"
     ]
    },
    {
     "name": "stderr",
     "output_type": "stream",
     "text": [
      "100%|██████████| 1875/1875 [00:06<00:00, 275.90it/s]\n"
     ]
    },
    {
     "name": "stdout",
     "output_type": "stream",
     "text": [
      "======> epoch: 38/100, Loss:0.035606272518634796\n",
      "Entering Epoch:  39\n"
     ]
    },
    {
     "name": "stderr",
     "output_type": "stream",
     "text": [
      "100%|██████████| 1875/1875 [00:06<00:00, 278.39it/s]\n"
     ]
    },
    {
     "name": "stdout",
     "output_type": "stream",
     "text": [
      "======> epoch: 39/100, Loss:0.03706391900777817\n",
      "Entering Epoch:  40\n"
     ]
    },
    {
     "name": "stderr",
     "output_type": "stream",
     "text": [
      "100%|██████████| 1875/1875 [00:06<00:00, 274.75it/s]\n"
     ]
    },
    {
     "name": "stdout",
     "output_type": "stream",
     "text": [
      "======> epoch: 40/100, Loss:0.030263273045420647\n",
      "Entering Epoch:  41\n"
     ]
    },
    {
     "name": "stderr",
     "output_type": "stream",
     "text": [
      "100%|██████████| 1875/1875 [00:06<00:00, 285.02it/s]\n"
     ]
    },
    {
     "name": "stdout",
     "output_type": "stream",
     "text": [
      "======> epoch: 41/100, Loss:0.0335175059735775\n",
      "Entering Epoch:  42\n"
     ]
    },
    {
     "name": "stderr",
     "output_type": "stream",
     "text": [
      "100%|██████████| 1875/1875 [00:06<00:00, 299.24it/s]\n"
     ]
    },
    {
     "name": "stdout",
     "output_type": "stream",
     "text": [
      "======> epoch: 42/100, Loss:0.03285931423306465\n",
      "Entering Epoch:  43\n"
     ]
    },
    {
     "name": "stderr",
     "output_type": "stream",
     "text": [
      "100%|██████████| 1875/1875 [00:06<00:00, 280.66it/s]\n"
     ]
    },
    {
     "name": "stdout",
     "output_type": "stream",
     "text": [
      "======> epoch: 43/100, Loss:0.0331287756562233\n",
      "Entering Epoch:  44\n"
     ]
    },
    {
     "name": "stderr",
     "output_type": "stream",
     "text": [
      "100%|██████████| 1875/1875 [00:06<00:00, 276.58it/s]\n"
     ]
    },
    {
     "name": "stdout",
     "output_type": "stream",
     "text": [
      "======> epoch: 44/100, Loss:0.029506264254450798\n",
      "Entering Epoch:  45\n"
     ]
    },
    {
     "name": "stderr",
     "output_type": "stream",
     "text": [
      "100%|██████████| 1875/1875 [00:06<00:00, 273.82it/s]\n"
     ]
    },
    {
     "name": "stdout",
     "output_type": "stream",
     "text": [
      "======> epoch: 45/100, Loss:0.03341067582368851\n",
      "Entering Epoch:  46\n"
     ]
    },
    {
     "name": "stderr",
     "output_type": "stream",
     "text": [
      "100%|██████████| 1875/1875 [00:06<00:00, 293.84it/s]\n"
     ]
    },
    {
     "name": "stdout",
     "output_type": "stream",
     "text": [
      "======> epoch: 46/100, Loss:0.03146765008568764\n",
      "Entering Epoch:  47\n"
     ]
    },
    {
     "name": "stderr",
     "output_type": "stream",
     "text": [
      "100%|██████████| 1875/1875 [00:06<00:00, 287.32it/s]\n"
     ]
    },
    {
     "name": "stdout",
     "output_type": "stream",
     "text": [
      "======> epoch: 47/100, Loss:0.033114854246377945\n",
      "Entering Epoch:  48\n"
     ]
    },
    {
     "name": "stderr",
     "output_type": "stream",
     "text": [
      "100%|██████████| 1875/1875 [00:06<00:00, 279.14it/s]\n"
     ]
    },
    {
     "name": "stdout",
     "output_type": "stream",
     "text": [
      "======> epoch: 48/100, Loss:0.031038422137498856\n",
      "Entering Epoch:  49\n"
     ]
    },
    {
     "name": "stderr",
     "output_type": "stream",
     "text": [
      "100%|██████████| 1875/1875 [00:06<00:00, 270.10it/s]\n"
     ]
    },
    {
     "name": "stdout",
     "output_type": "stream",
     "text": [
      "======> epoch: 49/100, Loss:0.030214566737413406\n",
      "Entering Epoch:  50\n"
     ]
    },
    {
     "name": "stderr",
     "output_type": "stream",
     "text": [
      "100%|██████████| 1875/1875 [00:06<00:00, 269.53it/s]\n"
     ]
    },
    {
     "name": "stdout",
     "output_type": "stream",
     "text": [
      "======> epoch: 50/100, Loss:0.028323935344815254\n",
      "Entering Epoch:  51\n"
     ]
    },
    {
     "name": "stderr",
     "output_type": "stream",
     "text": [
      "100%|██████████| 1875/1875 [00:06<00:00, 292.23it/s]\n"
     ]
    },
    {
     "name": "stdout",
     "output_type": "stream",
     "text": [
      "======> epoch: 51/100, Loss:0.02886492758989334\n",
      "Entering Epoch:  52\n"
     ]
    },
    {
     "name": "stderr",
     "output_type": "stream",
     "text": [
      "100%|██████████| 1875/1875 [00:06<00:00, 290.41it/s]\n"
     ]
    },
    {
     "name": "stdout",
     "output_type": "stream",
     "text": [
      "======> epoch: 52/100, Loss:0.02971857413649559\n",
      "Entering Epoch:  53\n"
     ]
    },
    {
     "name": "stderr",
     "output_type": "stream",
     "text": [
      "100%|██████████| 1875/1875 [00:06<00:00, 289.49it/s]\n"
     ]
    },
    {
     "name": "stdout",
     "output_type": "stream",
     "text": [
      "======> epoch: 53/100, Loss:0.02841019630432129\n",
      "Entering Epoch:  54\n"
     ]
    },
    {
     "name": "stderr",
     "output_type": "stream",
     "text": [
      "100%|██████████| 1875/1875 [00:07<00:00, 266.90it/s]\n"
     ]
    },
    {
     "name": "stdout",
     "output_type": "stream",
     "text": [
      "======> epoch: 54/100, Loss:0.0307503379881382\n",
      "Entering Epoch:  55\n"
     ]
    },
    {
     "name": "stderr",
     "output_type": "stream",
     "text": [
      "100%|██████████| 1875/1875 [00:06<00:00, 283.42it/s]\n"
     ]
    },
    {
     "name": "stdout",
     "output_type": "stream",
     "text": [
      "======> epoch: 55/100, Loss:0.02767888270318508\n",
      "Entering Epoch:  56\n"
     ]
    },
    {
     "name": "stderr",
     "output_type": "stream",
     "text": [
      "100%|██████████| 1875/1875 [00:06<00:00, 282.98it/s]\n"
     ]
    },
    {
     "name": "stdout",
     "output_type": "stream",
     "text": [
      "======> epoch: 56/100, Loss:0.026914123445749283\n",
      "Entering Epoch:  57\n"
     ]
    },
    {
     "name": "stderr",
     "output_type": "stream",
     "text": [
      "100%|██████████| 1875/1875 [00:06<00:00, 291.15it/s]\n"
     ]
    },
    {
     "name": "stdout",
     "output_type": "stream",
     "text": [
      "======> epoch: 57/100, Loss:0.02757725678384304\n",
      "Entering Epoch:  58\n"
     ]
    },
    {
     "name": "stderr",
     "output_type": "stream",
     "text": [
      "100%|██████████| 1875/1875 [00:06<00:00, 281.65it/s]\n"
     ]
    },
    {
     "name": "stdout",
     "output_type": "stream",
     "text": [
      "======> epoch: 58/100, Loss:0.02804609201848507\n",
      "Entering Epoch:  59\n"
     ]
    },
    {
     "name": "stderr",
     "output_type": "stream",
     "text": [
      "100%|██████████| 1875/1875 [00:06<00:00, 272.89it/s]\n"
     ]
    },
    {
     "name": "stdout",
     "output_type": "stream",
     "text": [
      "======> epoch: 59/100, Loss:0.028933383524417877\n",
      "Entering Epoch:  60\n"
     ]
    },
    {
     "name": "stderr",
     "output_type": "stream",
     "text": [
      "100%|██████████| 1875/1875 [00:06<00:00, 274.30it/s]\n"
     ]
    },
    {
     "name": "stdout",
     "output_type": "stream",
     "text": [
      "======> epoch: 60/100, Loss:0.03183458372950554\n",
      "Entering Epoch:  61\n"
     ]
    },
    {
     "name": "stderr",
     "output_type": "stream",
     "text": [
      "100%|██████████| 1875/1875 [00:06<00:00, 278.20it/s]\n"
     ]
    },
    {
     "name": "stdout",
     "output_type": "stream",
     "text": [
      "======> epoch: 61/100, Loss:0.02734406106173992\n",
      "Entering Epoch:  62\n"
     ]
    },
    {
     "name": "stderr",
     "output_type": "stream",
     "text": [
      "100%|██████████| 1875/1875 [00:06<00:00, 305.24it/s]\n"
     ]
    },
    {
     "name": "stdout",
     "output_type": "stream",
     "text": [
      "======> epoch: 62/100, Loss:0.02823054790496826\n",
      "Entering Epoch:  63\n"
     ]
    },
    {
     "name": "stderr",
     "output_type": "stream",
     "text": [
      "100%|██████████| 1875/1875 [00:06<00:00, 309.51it/s]\n"
     ]
    },
    {
     "name": "stdout",
     "output_type": "stream",
     "text": [
      "======> epoch: 63/100, Loss:0.030938779935240746\n",
      "Entering Epoch:  64\n"
     ]
    },
    {
     "name": "stderr",
     "output_type": "stream",
     "text": [
      "100%|██████████| 1875/1875 [00:06<00:00, 296.70it/s]\n"
     ]
    },
    {
     "name": "stdout",
     "output_type": "stream",
     "text": [
      "======> epoch: 64/100, Loss:0.03167318180203438\n",
      "Entering Epoch:  65\n"
     ]
    },
    {
     "name": "stderr",
     "output_type": "stream",
     "text": [
      "100%|██████████| 1875/1875 [00:07<00:00, 262.09it/s]\n"
     ]
    },
    {
     "name": "stdout",
     "output_type": "stream",
     "text": [
      "======> epoch: 65/100, Loss:0.02892969362437725\n",
      "Entering Epoch:  66\n"
     ]
    },
    {
     "name": "stderr",
     "output_type": "stream",
     "text": [
      "100%|██████████| 1875/1875 [00:06<00:00, 311.25it/s]\n"
     ]
    },
    {
     "name": "stdout",
     "output_type": "stream",
     "text": [
      "======> epoch: 66/100, Loss:0.028229864314198494\n",
      "Entering Epoch:  67\n"
     ]
    },
    {
     "name": "stderr",
     "output_type": "stream",
     "text": [
      "100%|██████████| 1875/1875 [00:06<00:00, 302.41it/s]\n"
     ]
    },
    {
     "name": "stdout",
     "output_type": "stream",
     "text": [
      "======> epoch: 67/100, Loss:0.02855733409523964\n",
      "Entering Epoch:  68\n"
     ]
    },
    {
     "name": "stderr",
     "output_type": "stream",
     "text": [
      "100%|██████████| 1875/1875 [00:06<00:00, 311.44it/s]\n"
     ]
    },
    {
     "name": "stdout",
     "output_type": "stream",
     "text": [
      "======> epoch: 68/100, Loss:0.025776943191885948\n",
      "Entering Epoch:  69\n"
     ]
    },
    {
     "name": "stderr",
     "output_type": "stream",
     "text": [
      "100%|██████████| 1875/1875 [00:07<00:00, 264.47it/s]\n"
     ]
    },
    {
     "name": "stdout",
     "output_type": "stream",
     "text": [
      "======> epoch: 69/100, Loss:0.02629425935447216\n",
      "Entering Epoch:  70\n"
     ]
    },
    {
     "name": "stderr",
     "output_type": "stream",
     "text": [
      "100%|██████████| 1875/1875 [00:06<00:00, 279.04it/s]\n"
     ]
    },
    {
     "name": "stdout",
     "output_type": "stream",
     "text": [
      "======> epoch: 70/100, Loss:0.023723745718598366\n",
      "Entering Epoch:  71\n"
     ]
    },
    {
     "name": "stderr",
     "output_type": "stream",
     "text": [
      "100%|██████████| 1875/1875 [00:06<00:00, 281.70it/s]\n"
     ]
    },
    {
     "name": "stdout",
     "output_type": "stream",
     "text": [
      "======> epoch: 71/100, Loss:0.024866288527846336\n",
      "Entering Epoch:  72\n"
     ]
    },
    {
     "name": "stderr",
     "output_type": "stream",
     "text": [
      "100%|██████████| 1875/1875 [00:06<00:00, 290.93it/s]\n"
     ]
    },
    {
     "name": "stdout",
     "output_type": "stream",
     "text": [
      "======> epoch: 72/100, Loss:0.028356188908219337\n",
      "Entering Epoch:  73\n"
     ]
    },
    {
     "name": "stderr",
     "output_type": "stream",
     "text": [
      "100%|██████████| 1875/1875 [00:06<00:00, 297.10it/s]\n"
     ]
    },
    {
     "name": "stdout",
     "output_type": "stream",
     "text": [
      "======> epoch: 73/100, Loss:0.02762618102133274\n",
      "Entering Epoch:  74\n"
     ]
    },
    {
     "name": "stderr",
     "output_type": "stream",
     "text": [
      "100%|██████████| 1875/1875 [00:06<00:00, 270.60it/s]\n"
     ]
    },
    {
     "name": "stdout",
     "output_type": "stream",
     "text": [
      "======> epoch: 74/100, Loss:0.02737896516919136\n",
      "Entering Epoch:  75\n"
     ]
    },
    {
     "name": "stderr",
     "output_type": "stream",
     "text": [
      "100%|██████████| 1875/1875 [00:06<00:00, 282.17it/s]\n"
     ]
    },
    {
     "name": "stdout",
     "output_type": "stream",
     "text": [
      "======> epoch: 75/100, Loss:0.024338755756616592\n",
      "Entering Epoch:  76\n"
     ]
    },
    {
     "name": "stderr",
     "output_type": "stream",
     "text": [
      "100%|██████████| 1875/1875 [00:06<00:00, 274.76it/s]\n"
     ]
    },
    {
     "name": "stdout",
     "output_type": "stream",
     "text": [
      "======> epoch: 76/100, Loss:0.026594093069434166\n",
      "Entering Epoch:  77\n"
     ]
    },
    {
     "name": "stderr",
     "output_type": "stream",
     "text": [
      "100%|██████████| 1875/1875 [00:06<00:00, 292.01it/s]\n"
     ]
    },
    {
     "name": "stdout",
     "output_type": "stream",
     "text": [
      "======> epoch: 77/100, Loss:0.026057714596390724\n",
      "Entering Epoch:  78\n"
     ]
    },
    {
     "name": "stderr",
     "output_type": "stream",
     "text": [
      "100%|██████████| 1875/1875 [00:06<00:00, 288.82it/s]\n"
     ]
    },
    {
     "name": "stdout",
     "output_type": "stream",
     "text": [
      "======> epoch: 78/100, Loss:0.030278939753770828\n",
      "Entering Epoch:  79\n"
     ]
    },
    {
     "name": "stderr",
     "output_type": "stream",
     "text": [
      "100%|██████████| 1875/1875 [00:06<00:00, 278.00it/s]\n"
     ]
    },
    {
     "name": "stdout",
     "output_type": "stream",
     "text": [
      "======> epoch: 79/100, Loss:0.027834132313728333\n",
      "Entering Epoch:  80\n"
     ]
    },
    {
     "name": "stderr",
     "output_type": "stream",
     "text": [
      "100%|██████████| 1875/1875 [00:06<00:00, 272.45it/s]\n"
     ]
    },
    {
     "name": "stdout",
     "output_type": "stream",
     "text": [
      "======> epoch: 80/100, Loss:0.026600204408168793\n",
      "Entering Epoch:  81\n"
     ]
    },
    {
     "name": "stderr",
     "output_type": "stream",
     "text": [
      "100%|██████████| 1875/1875 [00:06<00:00, 268.70it/s]\n"
     ]
    },
    {
     "name": "stdout",
     "output_type": "stream",
     "text": [
      "======> epoch: 81/100, Loss:0.028051035478711128\n",
      "Entering Epoch:  82\n"
     ]
    },
    {
     "name": "stderr",
     "output_type": "stream",
     "text": [
      "100%|██████████| 1875/1875 [00:06<00:00, 298.32it/s]\n"
     ]
    },
    {
     "name": "stdout",
     "output_type": "stream",
     "text": [
      "======> epoch: 82/100, Loss:0.02870418131351471\n",
      "Entering Epoch:  83\n"
     ]
    },
    {
     "name": "stderr",
     "output_type": "stream",
     "text": [
      "100%|██████████| 1875/1875 [00:06<00:00, 286.34it/s]\n"
     ]
    },
    {
     "name": "stdout",
     "output_type": "stream",
     "text": [
      "======> epoch: 83/100, Loss:0.024868078529834747\n",
      "Entering Epoch:  84\n"
     ]
    },
    {
     "name": "stderr",
     "output_type": "stream",
     "text": [
      "100%|██████████| 1875/1875 [00:06<00:00, 277.03it/s]\n"
     ]
    },
    {
     "name": "stdout",
     "output_type": "stream",
     "text": [
      "======> epoch: 84/100, Loss:0.026741795241832733\n",
      "Entering Epoch:  85\n"
     ]
    },
    {
     "name": "stderr",
     "output_type": "stream",
     "text": [
      "100%|██████████| 1875/1875 [00:07<00:00, 267.15it/s]\n"
     ]
    },
    {
     "name": "stdout",
     "output_type": "stream",
     "text": [
      "======> epoch: 85/100, Loss:0.02835112065076828\n",
      "Entering Epoch:  86\n"
     ]
    },
    {
     "name": "stderr",
     "output_type": "stream",
     "text": [
      "100%|██████████| 1875/1875 [00:06<00:00, 274.35it/s]\n"
     ]
    },
    {
     "name": "stdout",
     "output_type": "stream",
     "text": [
      "======> epoch: 86/100, Loss:0.027946222573518753\n",
      "Entering Epoch:  87\n"
     ]
    },
    {
     "name": "stderr",
     "output_type": "stream",
     "text": [
      "100%|██████████| 1875/1875 [00:06<00:00, 310.70it/s]\n"
     ]
    },
    {
     "name": "stdout",
     "output_type": "stream",
     "text": [
      "======> epoch: 87/100, Loss:0.02406994067132473\n",
      "Entering Epoch:  88\n"
     ]
    },
    {
     "name": "stderr",
     "output_type": "stream",
     "text": [
      "100%|██████████| 1875/1875 [00:06<00:00, 282.99it/s]\n"
     ]
    },
    {
     "name": "stdout",
     "output_type": "stream",
     "text": [
      "======> epoch: 88/100, Loss:0.02189946174621582\n",
      "Entering Epoch:  89\n"
     ]
    },
    {
     "name": "stderr",
     "output_type": "stream",
     "text": [
      "100%|██████████| 1875/1875 [00:06<00:00, 284.71it/s]\n"
     ]
    },
    {
     "name": "stdout",
     "output_type": "stream",
     "text": [
      "======> epoch: 89/100, Loss:0.022979706525802612\n",
      "Entering Epoch:  90\n"
     ]
    },
    {
     "name": "stderr",
     "output_type": "stream",
     "text": [
      "100%|██████████| 1875/1875 [00:07<00:00, 266.20it/s]\n"
     ]
    },
    {
     "name": "stdout",
     "output_type": "stream",
     "text": [
      "======> epoch: 90/100, Loss:0.02659778483211994\n",
      "Entering Epoch:  91\n"
     ]
    },
    {
     "name": "stderr",
     "output_type": "stream",
     "text": [
      "100%|██████████| 1875/1875 [00:06<00:00, 280.49it/s]\n"
     ]
    },
    {
     "name": "stdout",
     "output_type": "stream",
     "text": [
      "======> epoch: 91/100, Loss:0.027913440018892288\n",
      "Entering Epoch:  92\n"
     ]
    },
    {
     "name": "stderr",
     "output_type": "stream",
     "text": [
      "100%|██████████| 1875/1875 [00:06<00:00, 290.47it/s]\n"
     ]
    },
    {
     "name": "stdout",
     "output_type": "stream",
     "text": [
      "======> epoch: 92/100, Loss:0.026515915989875793\n",
      "Entering Epoch:  93\n"
     ]
    },
    {
     "name": "stderr",
     "output_type": "stream",
     "text": [
      "100%|██████████| 1875/1875 [00:06<00:00, 285.27it/s]\n"
     ]
    },
    {
     "name": "stdout",
     "output_type": "stream",
     "text": [
      "======> epoch: 93/100, Loss:0.025486178696155548\n",
      "Entering Epoch:  94\n"
     ]
    },
    {
     "name": "stderr",
     "output_type": "stream",
     "text": [
      "100%|██████████| 1875/1875 [00:06<00:00, 283.79it/s]\n"
     ]
    },
    {
     "name": "stdout",
     "output_type": "stream",
     "text": [
      "======> epoch: 94/100, Loss:0.0224983599036932\n",
      "Entering Epoch:  95\n"
     ]
    },
    {
     "name": "stderr",
     "output_type": "stream",
     "text": [
      "100%|██████████| 1875/1875 [00:07<00:00, 266.43it/s]\n"
     ]
    },
    {
     "name": "stdout",
     "output_type": "stream",
     "text": [
      "======> epoch: 95/100, Loss:0.02542024478316307\n",
      "Entering Epoch:  96\n"
     ]
    },
    {
     "name": "stderr",
     "output_type": "stream",
     "text": [
      "100%|██████████| 1875/1875 [00:06<00:00, 275.17it/s]\n"
     ]
    },
    {
     "name": "stdout",
     "output_type": "stream",
     "text": [
      "======> epoch: 96/100, Loss:0.027855372056365013\n",
      "Entering Epoch:  97\n"
     ]
    },
    {
     "name": "stderr",
     "output_type": "stream",
     "text": [
      "100%|██████████| 1875/1875 [00:06<00:00, 282.09it/s]\n"
     ]
    },
    {
     "name": "stdout",
     "output_type": "stream",
     "text": [
      "======> epoch: 97/100, Loss:0.025376586243510246\n",
      "Entering Epoch:  98\n"
     ]
    },
    {
     "name": "stderr",
     "output_type": "stream",
     "text": [
      "100%|██████████| 1875/1875 [00:06<00:00, 278.35it/s]\n"
     ]
    },
    {
     "name": "stdout",
     "output_type": "stream",
     "text": [
      "======> epoch: 98/100, Loss:0.026126166805624962\n",
      "Entering Epoch:  99\n"
     ]
    },
    {
     "name": "stderr",
     "output_type": "stream",
     "text": [
      "100%|██████████| 1875/1875 [00:06<00:00, 287.49it/s]\n"
     ]
    },
    {
     "name": "stdout",
     "output_type": "stream",
     "text": [
      "======> epoch: 99/100, Loss:0.02614304982125759\n"
     ]
    },
    {
     "data": {
      "text/plain": "[<matplotlib.lines.Line2D at 0x1da14be3be0>]"
     },
     "execution_count": 11,
     "metadata": {},
     "output_type": "execute_result"
    },
    {
     "data": {
      "text/plain": "<Figure size 640x480 with 1 Axes>",
      "image/png": "[encoded data removed]"
     },
     "metadata": {},
     "output_type": "display_data"
    }
   ],
   "source": [
    "%matplotlib qt\n",
    "\n",
    "#Entrainement du modele\n",
    "for epoch in range(epochs):\n",
    "\n",
    "    print(\"Entering Epoch: \", epoch)\n",
    "    for dirty, clean, label in tqdm((trainloader)):\n",
    "        dirty = dirty.view(dirty.size(0), -1).type(torch.FloatTensor)\n",
    "        clean = clean.view(clean.size(0), -1).type(torch.FloatTensor)\n",
    "        dirty, clean = dirty.to(device), clean.to(device)\n",
    "\n",
    "        # En avant\n",
    "        output = model(dirty)\n",
    "        loss = criterion(output, clean)\n",
    "        # En retour\n",
    "        optimizer.zero_grad()\n",
    "        loss.backward()\n",
    "        optimizer.step()\n",
    "\n",
    "        running_loss += loss.item()\n",
    "        epochloss += loss.item()\n",
    "\n",
    "    #Ajout des informations sur une epoch\n",
    "    losslist.append(running_loss / l)\n",
    "    running_loss = 0\n",
    "    print(\"======> epoch: {}/{}, Loss:{}\".format(epoch, epochs, loss.item()))\n",
    "\n",
    "    image_res = model(image_test)\n",
    "\n",
    "    image_res = image_res.view(1, 28, 28)\n",
    "    image_res = image_res.permute(1, 2, 0).squeeze(2)\n",
    "    image_res = image_res.detach().cpu().numpy()\n",
    "\n",
    "    plt.imshow(image_res)\n",
    "    plt.pause(0.01)\n",
    "\n",
    "    #Enregistrement d'un test sur une image\n",
    "    plt.savefig(f\"animation/{epoch}.png\")\n",
    "\n",
    "%matplotlib inline\n",
    "\n",
    "plt.plot(range(len(losslist)), losslist)"
   ],
   "metadata": {
    "collapsed": false
   }
  },
  {
   "cell_type": "markdown",
   "source": [],
   "metadata": {
    "collapsed": false
   }
  },
  {
   "cell_type": "markdown",
   "source": [
    "## Affichage des résultats\n",
    "\n",
    "Les résultats de 6 éléments de la base de test sont affichés ici. La première colonne correspond à l'image initiale, la seconde l'image bruitée et la troisième l'image reconstruite par l'autoencodeur. La dernière colonne correspond à l'espace latent (entre l'encodeur et le décodeur)."
   ],
   "metadata": {
    "collapsed": false
   }
  },
  {
   "cell_type": "code",
   "execution_count": 12,
   "outputs": [
    {
     "data": {
      "text/plain": "<Figure size 2000x2000 with 24 Axes>",
      "image/png": "[encoded data removed]"
     },
     "metadata": {},
     "output_type": "display_data"
    }
   ],
   "source": [
    "#Ifenrence du modele sur les donnees de test\n",
    "f, axes = plt.subplots(6, 4, figsize=(20, 20))\n",
    "axes[0, 0].set_title(\"Original Image\")\n",
    "axes[0, 1].set_title(\"Dirty Image\")\n",
    "axes[0, 2].set_title(\"Cleaned Image\")\n",
    "axes[0, 3].set_title(\"Latent Space\")\n",
    "\n",
    "test_imgs = np.random.randint(0, 10000, size=6)\n",
    "for idx in range((6)):\n",
    "    dirty = testset[test_imgs[idx]][0]\n",
    "    clean = testset[test_imgs[idx]][1]\n",
    "    label = testset[test_imgs[idx]][2]\n",
    "    dirty = dirty.view(dirty.size(0), -1).type(torch.FloatTensor)\n",
    "    dirty = dirty.to(device)\n",
    "    output = model(dirty)\n",
    "    output_encoder = model.encoder(dirty)\n",
    "\n",
    "    output = output.view(1, 28, 28)\n",
    "    output = output.permute(1, 2, 0).squeeze(2)\n",
    "    output = output.detach().cpu().numpy()\n",
    "\n",
    "    dirty = dirty.view(1, 28, 28)\n",
    "    dirty = dirty.permute(1, 2, 0).squeeze(2)\n",
    "    dirty = dirty.detach().cpu().numpy()\n",
    "\n",
    "    clean = clean.permute(1, 2, 0).squeeze(2)\n",
    "    clean = clean.detach().cpu().numpy()\n",
    "\n",
    "    latent = output_encoder.detach().cpu().numpy()\n",
    "    latent = latent.reshape(-1,)\n",
    "\n",
    "    axes[idx, 0].imshow(clean, cmap=\"gray\")\n",
    "    axes[idx, 1].imshow(dirty, cmap=\"gray\")\n",
    "    axes[idx, 2].imshow(output, cmap=\"gray\")\n",
    "    axes[idx, 3].plot(latent)\n",
    "\n",
    "plt.show()"
   ],
   "metadata": {
    "collapsed": false
   }
  },
  {
   "cell_type": "code",
   "execution_count": 14,
   "outputs": [],
   "source": [
    "#Sauvegarde du modele en .pth\n",
    "PATH = \"model/mnistDense.pth\"\n",
    "torch.save(model.state_dict(), PATH)  # We save the model state dict at PATH"
   ],
   "metadata": {
    "collapsed": false
   }
  },
  {
   "cell_type": "markdown",
   "source": [
    "## Génération d'un GIF pour visualiser l'entrainement"
   ],
   "metadata": {
    "collapsed": false
   }
  },
  {
   "cell_type": "code",
   "execution_count": 15,
   "outputs": [
    {
     "name": "stderr",
     "output_type": "stream",
     "text": [
      "C:\\Users\\gabri\\AppData\\Local\\Temp\\ipykernel_8188\\431058984.py:5: DeprecationWarning: Starting with ImageIO v3 the behavior of this function will switch to that of iio.v3.imread. To keep the current behavior (and make this warning disappear) use `import imageio.v2 as imageio` or call `imageio.v2.imread` directly.\n",
      "  frames = np.stack([iio.imread(f\"animation/{i}.png\")[59:425, 105:475] for i in range(50)], axis = 0)\n"
     ]
    }
   ],
   "source": [
    "import imageio as iio\n",
    "import numpy as np\n",
    "\n",
    "#Visualisation d'inference d'une image pour chaque epoch\n",
    "frames = np.stack([iio.imread(f\"animation/{i}.png\")[59:425, 105:475] for i in range(50)], axis = 0)\n",
    "\n",
    "iio.mimwrite('animation_mnist.gif', frames)"
   ],
   "metadata": {
    "collapsed": false
   }
  }
 ],
 "metadata": {
  "kernelspec": {
   "display_name": "Python 3",
   "language": "python",
   "name": "python3"
  },
  "language_info": {
   "codemirror_mode": {
    "name": "ipython",
    "version": 2
   },
   "file_extension": ".py",
   "mimetype": "text/x-python",
   "name": "python",
   "nbconvert_exporter": "python",
   "pygments_lexer": "ipython2",
   "version": "2.7.6"
  }
 },
 "nbformat": 4,
 "nbformat_minor": 0
}
